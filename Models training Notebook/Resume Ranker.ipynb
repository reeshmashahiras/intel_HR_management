{
 "cells": [
  {
   "cell_type": "markdown",
   "metadata": {
    "id": "jS9wqnZCiMNH"
   },
   "source": [
    "## Importing all required libraries"
   ]
  },
  {
   "cell_type": "code",
   "execution_count": null,
   "metadata": {
    "id": "843B1HxD_-RB"
   },
   "outputs": [],
   "source": [
    "import pandas as pd\n",
    "import re\n",
    "from nltk.corpus import wordnet\n",
    "from sklearn.feature_extraction.text import TfidfVectorizer\n",
    "from sklearn.metrics.pairwise import cosine_similarity\n",
    "from nltk.stem.wordnet import WordNetLemmatizer\n",
    "from nltk.corpus import stopwords as stp\n",
    "from sklearn.feature_extraction.text import CountVectorizer\n",
    "# nltk.download()"
   ]
  },
  {
   "cell_type": "markdown",
   "metadata": {
    "id": "JqkWbLINiU8e"
   },
   "source": [
    "## Reading dataset"
   ]
  },
  {
   "cell_type": "code",
   "execution_count": null,
   "metadata": {
    "id": "kzBqh9ljAGoz"
   },
   "outputs": [],
   "source": [
    "df = pd.read_csv('/content/drive/MyDrive/Colab Notebooks/Resume Ranker/Resume Ranking Data Set.csv')\n",
    "df_cp = df.copy()"
   ]
  },
  {
   "cell_type": "code",
   "execution_count": null,
   "metadata": {
    "colab": {
     "base_uri": "https://localhost:8080/",
     "height": 539
    },
    "executionInfo": {
     "elapsed": 26,
     "status": "ok",
     "timestamp": 1630169249477,
     "user": {
      "displayName": "Vineet Patel",
      "photoUrl": "https://lh3.googleusercontent.com/a-/AOh14Gg3orwxVwccrueaulqw9L98IBqGvNH1nEwdwiUP0Q=s64",
      "userId": "07760585287432952056"
     },
     "user_tz": -330
    },
    "id": "LoW_FAGAAhm7",
    "outputId": "19e934ca-3c03-4f69-8ca1-7493b491dddb"
   },
   "outputs": [
    {
     "data": {
      "text/html": [
       "<div>\n",
       "<style scoped>\n",
       "    .dataframe tbody tr th:only-of-type {\n",
       "        vertical-align: middle;\n",
       "    }\n",
       "\n",
       "    .dataframe tbody tr th {\n",
       "        vertical-align: top;\n",
       "    }\n",
       "\n",
       "    .dataframe thead th {\n",
       "        text-align: right;\n",
       "    }\n",
       "</style>\n",
       "<table border=\"1\" class=\"dataframe\">\n",
       "  <thead>\n",
       "    <tr style=\"text-align: right;\">\n",
       "      <th></th>\n",
       "      <th>accomplishments_segment</th>\n",
       "      <th>degree</th>\n",
       "      <th>education_segment</th>\n",
       "      <th>emails</th>\n",
       "      <th>job_titles</th>\n",
       "      <th>links</th>\n",
       "      <th>misc_segment</th>\n",
       "      <th>name</th>\n",
       "      <th>objectives_segment</th>\n",
       "      <th>phone</th>\n",
       "      <th>projects_segment</th>\n",
       "      <th>skills</th>\n",
       "      <th>skills_segment</th>\n",
       "      <th>text</th>\n",
       "      <th>university_0</th>\n",
       "      <th>university_1</th>\n",
       "      <th>university_2</th>\n",
       "      <th>university_3</th>\n",
       "      <th>university_4</th>\n",
       "      <th>university_5</th>\n",
       "      <th>url</th>\n",
       "      <th>work_experience</th>\n",
       "      <th>work_segment</th>\n",
       "    </tr>\n",
       "  </thead>\n",
       "  <tbody>\n",
       "    <tr>\n",
       "      <th>0</th>\n",
       "      <td>NaN</td>\n",
       "      <td>MS , B.TECH , PhD</td>\n",
       "      <td>NaN</td>\n",
       "      <td>sutarvinayak2063@gmail.com</td>\n",
       "      <td>full stack developer , student</td>\n",
       "      <td>https://github.com/ramsuthar305/SIH2019 , http...</td>\n",
       "      <td>NaN</td>\n",
       "      <td>Prasad Nagar</td>\n",
       "      <td>NaN</td>\n",
       "      <td>+919309161108</td>\n",
       "      <td>NaN</td>\n",
       "      <td>algorithms , interview , visualisation , robot...</td>\n",
       "      <td>NaN</td>\n",
       "      <td>VINAYAK \\nSUTAR \\nLinkedIn  \\n+91 9309161108  ...</td>\n",
       "      <td>national, mainpuri, uttar pradesh</td>\n",
       "      <td>college of arts, sundargarh, odisha</td>\n",
       "      <td>school of engineering, ernakulam, kerala</td>\n",
       "      <td>NaN</td>\n",
       "      <td>NaN</td>\n",
       "      <td>NaN</td>\n",
       "      <td>https://training-resumes.s3.ap-south-1.amazona...</td>\n",
       "      <td>NaN</td>\n",
       "      <td>NaN</td>\n",
       "    </tr>\n",
       "    <tr>\n",
       "      <th>1</th>\n",
       "      <td>NaN</td>\n",
       "      <td>B.E , MS , M.TECH</td>\n",
       "      <td>M.Tech. Data Science\\nJSS Science And Technolo...</td>\n",
       "      <td>pooj.vs@gmail.com</td>\n",
       "      <td>software engineer</td>\n",
       "      <td>pooj.vs</td>\n",
       "      <td>06/2017 – 07/2019\\n07/2018 – 07/2019\\nmailto:p...</td>\n",
       "      <td>Software Engineer</td>\n",
       "      <td>NaN</td>\n",
       "      <td>7411786822</td>\n",
       "      <td>Oracle India Private Limited\\nBengaluru\\n</td>\n",
       "      <td>core java , algorithms , sql tools , deep lear...</td>\n",
       "      <td>Looking forward to grasp new technologies.\\npo...</td>\n",
       "      <td>POOJA V S\\nSoftware Engineer\\nRich exposure to...</td>\n",
       "      <td>government, kandhamal, odisha</td>\n",
       "      <td>vidya vardhaka college of engineering, mysore,...</td>\n",
       "      <td>NaN</td>\n",
       "      <td>NaN</td>\n",
       "      <td>NaN</td>\n",
       "      <td>NaN</td>\n",
       "      <td>https://training-resumes.s3.ap-south-1.amazona...</td>\n",
       "      <td>NaN</td>\n",
       "      <td>Merchandising System' using PL/SQL.\\nmaintain ...</td>\n",
       "    </tr>\n",
       "    <tr>\n",
       "      <th>2</th>\n",
       "      <td>Successfully cleared and completed the course ...</td>\n",
       "      <td>MS , B.TECH , BS</td>\n",
       "      <td>Degree\\nInstitute\\nBoard/University\\nYear\\nPer...</td>\n",
       "      <td>khandelwal.ashwin5@gmail.com</td>\n",
       "      <td>NaN</td>\n",
       "      <td>https://www.linkedin.com/in/ashwin-khandelwal-...</td>\n",
       "      <td>NaN</td>\n",
       "      <td>Ashwin Khandelwal</td>\n",
       "      <td>I seek challenging environment to work in, tha...</td>\n",
       "      <td>9462710290</td>\n",
       "      <td>Description\\nInfogain \\n(July 2019 - Present)\\...</td>\n",
       "      <td>digital signal processing , algorithms , capac...</td>\n",
       "      <td>NaN</td>\n",
       "      <td>Ashwin Khandelwal          \\n Email id – khand...</td>\n",
       "      <td>narsee monjee institute of management studies,...</td>\n",
       "      <td>NaN</td>\n",
       "      <td>NaN</td>\n",
       "      <td>NaN</td>\n",
       "      <td>NaN</td>\n",
       "      <td>NaN</td>\n",
       "      <td>https://training-resumes.s3.ap-south-1.amazona...</td>\n",
       "      <td>NaN</td>\n",
       "      <td>Organization / Institute\\nDescription\\nBharat ...</td>\n",
       "    </tr>\n",
       "    <tr>\n",
       "      <th>3</th>\n",
       "      <td>NaN</td>\n",
       "      <td>B.E , MS , BS</td>\n",
       "      <td>NaN</td>\n",
       "      <td>NaN</td>\n",
       "      <td>work from home , support analyst , software an...</td>\n",
       "      <td>NaN</td>\n",
       "      <td>NaN</td>\n",
       "      <td>Computer Engineering</td>\n",
       "      <td>NaN</td>\n",
       "      <td>919930485336</td>\n",
       "      <td>NaN</td>\n",
       "      <td>big data analytics , award , training , comput...</td>\n",
       "      <td>NaN</td>\n",
       "      <td>Assessment\\nQ1. Why should you be hired for th...</td>\n",
       "      <td>master, medak, telangana</td>\n",
       "      <td>NaN</td>\n",
       "      <td>NaN</td>\n",
       "      <td>NaN</td>\n",
       "      <td>NaN</td>\n",
       "      <td>NaN</td>\n",
       "      <td>https://training-resumes.s3.ap-south-1.amazona...</td>\n",
       "      <td>1.0</td>\n",
       "      <td>NaN</td>\n",
       "    </tr>\n",
       "    <tr>\n",
       "      <th>4</th>\n",
       "      <td>NaN</td>\n",
       "      <td>MS , B.TECH , BS</td>\n",
       "      <td>NaN</td>\n",
       "      <td>NaN</td>\n",
       "      <td>work from home , classifier</td>\n",
       "      <td>https://github.com/ajay1013/Titanic-ML-from-Di...</td>\n",
       "      <td>NaN</td>\n",
       "      <td> Python</td>\n",
       "      <td>NaN</td>\n",
       "      <td>918010295832</td>\n",
       "      <td>NaN</td>\n",
       "      <td>functionality , algorithms , spark , data visu...</td>\n",
       "      <td>NaN</td>\n",
       "      <td>Assessment\\nQ1. Why should you be hired for th...</td>\n",
       "      <td>greater noida institute of technology, gautam ...</td>\n",
       "      <td>NaN</td>\n",
       "      <td>NaN</td>\n",
       "      <td>NaN</td>\n",
       "      <td>NaN</td>\n",
       "      <td>NaN</td>\n",
       "      <td>https://training-resumes.s3.ap-south-1.amazona...</td>\n",
       "      <td>NaN</td>\n",
       "      <td>NaN</td>\n",
       "    </tr>\n",
       "  </tbody>\n",
       "</table>\n",
       "</div>"
      ],
      "text/plain": [
       "                             accomplishments_segment  ...                                       work_segment\n",
       "0                                                NaN  ...                                                NaN\n",
       "1                                                NaN  ...  Merchandising System' using PL/SQL.\\nmaintain ...\n",
       "2  Successfully cleared and completed the course ...  ...  Organization / Institute\\nDescription\\nBharat ...\n",
       "3                                                NaN  ...                                                NaN\n",
       "4                                                NaN  ...                                                NaN\n",
       "\n",
       "[5 rows x 23 columns]"
      ]
     },
     "execution_count": 90,
     "metadata": {},
     "output_type": "execute_result"
    }
   ],
   "source": [
    "df.head()"
   ]
  },
  {
   "cell_type": "markdown",
   "metadata": {
    "id": "s1g_JhHyifb5"
   },
   "source": [
    "## Total null values of each Features"
   ]
  },
  {
   "cell_type": "code",
   "execution_count": null,
   "metadata": {
    "colab": {
     "base_uri": "https://localhost:8080/"
    },
    "executionInfo": {
     "elapsed": 20,
     "status": "ok",
     "timestamp": 1630169249479,
     "user": {
      "displayName": "Vineet Patel",
      "photoUrl": "https://lh3.googleusercontent.com/a-/AOh14Gg3orwxVwccrueaulqw9L98IBqGvNH1nEwdwiUP0Q=s64",
      "userId": "07760585287432952056"
     },
     "user_tz": -330
    },
    "id": "kYlSq2LOBnqO",
    "outputId": "2f68ab9f-5a81-4a94-a981-0e289c4b2537"
   },
   "outputs": [
    {
     "data": {
      "text/plain": [
       "accomplishments_segment    1507\n",
       "degree                       38\n",
       "education_segment          1116\n",
       "emails                     1509\n",
       "job_titles                   27\n",
       "links                       354\n",
       "misc_segment               1551\n",
       "name                          1\n",
       "objectives_segment         1159\n",
       "phone                       219\n",
       "projects_segment            893\n",
       "skills                        0\n",
       "skills_segment             1105\n",
       "text                          0\n",
       "university_0               1007\n",
       "university_1               1305\n",
       "university_2               1480\n",
       "university_3               1545\n",
       "university_4               1568\n",
       "university_5               1571\n",
       "url                           0\n",
       "work_experience             854\n",
       "work_segment                893\n",
       "dtype: int64"
      ]
     },
     "execution_count": 91,
     "metadata": {},
     "output_type": "execute_result"
    }
   ],
   "source": [
    "df.isnull().sum()"
   ]
  },
  {
   "cell_type": "markdown",
   "metadata": {
    "id": "rfQcR0nZiwvw"
   },
   "source": [
    "## Dropping the features which doesn't required"
   ]
  },
  {
   "cell_type": "code",
   "execution_count": null,
   "metadata": {
    "colab": {
     "base_uri": "https://localhost:8080/"
    },
    "executionInfo": {
     "elapsed": 22,
     "status": "ok",
     "timestamp": 1630169250207,
     "user": {
      "displayName": "Vineet Patel",
      "photoUrl": "https://lh3.googleusercontent.com/a-/AOh14Gg3orwxVwccrueaulqw9L98IBqGvNH1nEwdwiUP0Q=s64",
      "userId": "07760585287432952056"
     },
     "user_tz": -330
    },
    "id": "HJVKeYbWB2lW",
    "outputId": "983552dc-252d-401d-c303-d86a08e2218b"
   },
   "outputs": [
    {
     "data": {
      "text/plain": [
       "(1573, 5)"
      ]
     },
     "execution_count": 92,
     "metadata": {},
     "output_type": "execute_result"
    }
   ],
   "source": [
    "df.drop(['accomplishments_segment','education_segment','emails','misc_segment','name','objectives_segment','phone','projects_segment','skills_segment','text',\n",
    "         'university_0','university_1','university_2','university_3','university_4','university_5','url','work_segment'],axis=1,inplace=True)\n",
    "df.shape"
   ]
  },
  {
   "cell_type": "markdown",
   "metadata": {
    "id": "JwvzfBFCjSpQ"
   },
   "source": [
    "## Total null values of features after dropping the features"
   ]
  },
  {
   "cell_type": "code",
   "execution_count": null,
   "metadata": {
    "colab": {
     "base_uri": "https://localhost:8080/"
    },
    "executionInfo": {
     "elapsed": 19,
     "status": "ok",
     "timestamp": 1630169250209,
     "user": {
      "displayName": "Vineet Patel",
      "photoUrl": "https://lh3.googleusercontent.com/a-/AOh14Gg3orwxVwccrueaulqw9L98IBqGvNH1nEwdwiUP0Q=s64",
      "userId": "07760585287432952056"
     },
     "user_tz": -330
    },
    "id": "UL3IgxxZEzuP",
    "outputId": "40a69bba-c5ca-4c15-94be-2c52920e3950"
   },
   "outputs": [
    {
     "name": "stdout",
     "output_type": "stream",
     "text": [
      "After removing the columns from dataset..\n"
     ]
    },
    {
     "data": {
      "text/plain": [
       "degree              38\n",
       "job_titles          27\n",
       "links              354\n",
       "skills               0\n",
       "work_experience    854\n",
       "dtype: int64"
      ]
     },
     "execution_count": 93,
     "metadata": {},
     "output_type": "execute_result"
    }
   ],
   "source": [
    "print('After removing the columns from dataset..')\n",
    "df.isnull().sum()"
   ]
  },
  {
   "cell_type": "markdown",
   "metadata": {
    "id": "ddAey2kVjdHx"
   },
   "source": [
    "## Handling null values of features"
   ]
  },
  {
   "cell_type": "code",
   "execution_count": null,
   "metadata": {
    "id": "epIFeqP9yEeE"
   },
   "outputs": [],
   "source": [
    "df['degree'].fillna(df.degree.mode()[0],inplace=True)\n",
    "df['links'].fillna('Missing',inplace=True)\n",
    "df['work_experience'].fillna(0,inplace=True)\n",
    "df['job_titles'].fillna('No Job',inplace=True)"
   ]
  },
  {
   "cell_type": "markdown",
   "metadata": {
    "id": "rg4vqdM9jk5u"
   },
   "source": [
    "## Fetching the unique value from the 'degree' feature"
   ]
  },
  {
   "cell_type": "code",
   "execution_count": null,
   "metadata": {
    "colab": {
     "base_uri": "https://localhost:8080/"
    },
    "executionInfo": {
     "elapsed": 9,
     "status": "ok",
     "timestamp": 1630169250757,
     "user": {
      "displayName": "Vineet Patel",
      "photoUrl": "https://lh3.googleusercontent.com/a-/AOh14Gg3orwxVwccrueaulqw9L98IBqGvNH1nEwdwiUP0Q=s64",
      "userId": "07760585287432952056"
     },
     "user_tz": -330
    },
    "id": "bXdPMpt6xknX",
    "outputId": "c90fd0a4-4b81-4b8b-95f8-29b7aaec901a"
   },
   "outputs": [
    {
     "data": {
      "text/plain": [
       "{'BE', 'BS', 'BSC', 'BTECH', 'ME', 'MS', 'MSC', 'MTECH', 'PHD'}"
      ]
     },
     "execution_count": 95,
     "metadata": {},
     "output_type": "execute_result"
    }
   ],
   "source": [
    "all_degrees = ''\n",
    "for i in df.degree:\n",
    "  if len(all_degrees) == 0:\n",
    "    all_degrees = i\n",
    "  else:\n",
    "    all_degrees = all_degrees + ' , ' + i\n",
    "\n",
    "all_degrees = all_degrees.split(',')\n",
    "all_degrees = [re.sub(\"[\\s.]\",\"\",i).upper() for i in all_degrees]\n",
    "unique_degrees = set(all_degrees)\n",
    "unique_degrees"
   ]
  },
  {
   "cell_type": "markdown",
   "metadata": {
    "id": "E8j1ngeJkNMv"
   },
   "source": [
    "## Feature Handling of 'degree', 'links' and 'work_experience'"
   ]
  },
  {
   "cell_type": "code",
   "execution_count": null,
   "metadata": {
    "id": "rFTjYnB0egmy"
   },
   "outputs": [],
   "source": [
    "df['bachelor_degrees'] = 'No Degree'\n",
    "df['master_degrees'] = 'No Degree'\n",
    "df['docterte_degrees'] = 'No Degree'\n",
    "df['profiles'] = 'No Profile'"
   ]
  },
  {
   "cell_type": "markdown",
   "metadata": {
    "id": "ZuVXX_xpkzLV"
   },
   "source": [
    "### 1. 'degree' convert into 'bachelor', 'master', and 'docterte'"
   ]
  },
  {
   "cell_type": "code",
   "execution_count": null,
   "metadata": {
    "id": "pIESv1WKytSu"
   },
   "outputs": [],
   "source": [
    "ind = 0\n",
    "for i in df.degree:  \n",
    "  lst = re.sub(\"[\\s.]\",\"\",i).upper( )\n",
    "  # print(lst)\n",
    "  for j in lst.split(','):\n",
    "    if j in ['BE', 'BS', 'BSC', 'BTECH']:\n",
    "      if df.loc[ind,'bachelor_degrees'] == 'No Degree':\n",
    "        df.loc[ind,'bachelor_degrees'] = j\n",
    "      else:\n",
    "        df.loc[ind,'bachelor_degrees'] = df.loc[ind,'bachelor_degrees'] + ' , '+ j\n",
    "    elif j in ['ME', 'MS', 'MSC', 'MTECH']:      \n",
    "      if df.loc[ind,'master_degrees'] == 'No Degree':\n",
    "        df.loc[ind,'master_degrees'] = j\n",
    "      else:\n",
    "        df.loc[ind,'master_degrees'] = df.loc[ind,'master_degrees'] + ' , '+ j\n",
    "    elif j == 'PHD':      \n",
    "      if df.loc[ind,'docterte_degrees'] == 'No Degree':\n",
    "        df.loc[ind,'docterte_degrees'] = j\n",
    "      else:\n",
    "        df.loc[ind,'docterte_degrees'] = df.loc[ind,'docterte_degrees'] + ' , '+ j\n",
    "  ind +=1"
   ]
  },
  {
   "cell_type": "code",
   "execution_count": null,
   "metadata": {
    "colab": {
     "base_uri": "https://localhost:8080/",
     "height": 582
    },
    "executionInfo": {
     "elapsed": 33,
     "status": "ok",
     "timestamp": 1630169253542,
     "user": {
      "displayName": "Vineet Patel",
      "photoUrl": "https://lh3.googleusercontent.com/a-/AOh14Gg3orwxVwccrueaulqw9L98IBqGvNH1nEwdwiUP0Q=s64",
      "userId": "07760585287432952056"
     },
     "user_tz": -330
    },
    "id": "uA2yCJCbzYK2",
    "outputId": "e8446d79-551b-49a9-cb64-95f525a4497d"
   },
   "outputs": [
    {
     "data": {
      "text/html": [
       "<div>\n",
       "<style scoped>\n",
       "    .dataframe tbody tr th:only-of-type {\n",
       "        vertical-align: middle;\n",
       "    }\n",
       "\n",
       "    .dataframe tbody tr th {\n",
       "        vertical-align: top;\n",
       "    }\n",
       "\n",
       "    .dataframe thead th {\n",
       "        text-align: right;\n",
       "    }\n",
       "</style>\n",
       "<table border=\"1\" class=\"dataframe\">\n",
       "  <thead>\n",
       "    <tr style=\"text-align: right;\">\n",
       "      <th></th>\n",
       "      <th>degree</th>\n",
       "      <th>job_titles</th>\n",
       "      <th>links</th>\n",
       "      <th>skills</th>\n",
       "      <th>work_experience</th>\n",
       "      <th>bachelor_degrees</th>\n",
       "      <th>master_degrees</th>\n",
       "      <th>docterte_degrees</th>\n",
       "      <th>profiles</th>\n",
       "    </tr>\n",
       "  </thead>\n",
       "  <tbody>\n",
       "    <tr>\n",
       "      <th>0</th>\n",
       "      <td>MS , B.TECH , PhD</td>\n",
       "      <td>full stack developer , student</td>\n",
       "      <td>https://github.com/ramsuthar305/SIH2019 , http...</td>\n",
       "      <td>algorithms , interview , visualisation , robot...</td>\n",
       "      <td>0.0</td>\n",
       "      <td>BTECH</td>\n",
       "      <td>MS</td>\n",
       "      <td>PHD</td>\n",
       "      <td>No Profile</td>\n",
       "    </tr>\n",
       "    <tr>\n",
       "      <th>1</th>\n",
       "      <td>B.E , MS , M.TECH</td>\n",
       "      <td>software engineer</td>\n",
       "      <td>pooj.vs</td>\n",
       "      <td>core java , algorithms , sql tools , deep lear...</td>\n",
       "      <td>0.0</td>\n",
       "      <td>BE</td>\n",
       "      <td>MS , MTECH</td>\n",
       "      <td>No Degree</td>\n",
       "      <td>No Profile</td>\n",
       "    </tr>\n",
       "    <tr>\n",
       "      <th>2</th>\n",
       "      <td>MS , B.TECH , BS</td>\n",
       "      <td>No Job</td>\n",
       "      <td>https://www.linkedin.com/in/ashwin-khandelwal-...</td>\n",
       "      <td>digital signal processing , algorithms , capac...</td>\n",
       "      <td>0.0</td>\n",
       "      <td>BTECH , BS</td>\n",
       "      <td>MS</td>\n",
       "      <td>No Degree</td>\n",
       "      <td>No Profile</td>\n",
       "    </tr>\n",
       "    <tr>\n",
       "      <th>3</th>\n",
       "      <td>B.E , MS , BS</td>\n",
       "      <td>work from home , support analyst , software an...</td>\n",
       "      <td>Missing</td>\n",
       "      <td>big data analytics , award , training , comput...</td>\n",
       "      <td>1.0</td>\n",
       "      <td>BE , BS</td>\n",
       "      <td>MS</td>\n",
       "      <td>No Degree</td>\n",
       "      <td>No Profile</td>\n",
       "    </tr>\n",
       "    <tr>\n",
       "      <th>4</th>\n",
       "      <td>MS , B.TECH , BS</td>\n",
       "      <td>work from home , classifier</td>\n",
       "      <td>https://github.com/ajay1013/Titanic-ML-from-Di...</td>\n",
       "      <td>functionality , algorithms , spark , data visu...</td>\n",
       "      <td>0.0</td>\n",
       "      <td>BTECH , BS</td>\n",
       "      <td>MS</td>\n",
       "      <td>No Degree</td>\n",
       "      <td>No Profile</td>\n",
       "    </tr>\n",
       "    <tr>\n",
       "      <th>...</th>\n",
       "      <td>...</td>\n",
       "      <td>...</td>\n",
       "      <td>...</td>\n",
       "      <td>...</td>\n",
       "      <td>...</td>\n",
       "      <td>...</td>\n",
       "      <td>...</td>\n",
       "      <td>...</td>\n",
       "      <td>...</td>\n",
       "    </tr>\n",
       "    <tr>\n",
       "      <th>1568</th>\n",
       "      <td>B.E , MS , M.TECH</td>\n",
       "      <td>branch manager , embedded software developer ,...</td>\n",
       "      <td>https://www.linkedin.com/in , https://grv20.gi...</td>\n",
       "      <td>digital communication , api , atom , robot , c...</td>\n",
       "      <td>2.0</td>\n",
       "      <td>BE</td>\n",
       "      <td>MS , MTECH</td>\n",
       "      <td>No Degree</td>\n",
       "      <td>No Profile</td>\n",
       "    </tr>\n",
       "    <tr>\n",
       "      <th>1569</th>\n",
       "      <td>MS , BS</td>\n",
       "      <td>devops , senior android developer , team lead</td>\n",
       "      <td>com.gokada , https://play.google.com/store/app...</td>\n",
       "      <td>reporting , functionality , socket.io , mockit...</td>\n",
       "      <td>2.0</td>\n",
       "      <td>BS</td>\n",
       "      <td>MS</td>\n",
       "      <td>No Degree</td>\n",
       "      <td>No Profile</td>\n",
       "    </tr>\n",
       "    <tr>\n",
       "      <th>1570</th>\n",
       "      <td>B.S , M.Sc , M.S , BS , MS</td>\n",
       "      <td>devops engineer , traffic manager , release ma...</td>\n",
       "      <td>https://freesearch.naukri.com/preview/printResume</td>\n",
       "      <td>version control , renewals , nfs , telugu , vi...</td>\n",
       "      <td>12.0</td>\n",
       "      <td>BS , BS</td>\n",
       "      <td>MSC , MS , MS</td>\n",
       "      <td>No Degree</td>\n",
       "      <td>No Profile</td>\n",
       "    </tr>\n",
       "    <tr>\n",
       "      <th>1571</th>\n",
       "      <td>MS</td>\n",
       "      <td>classifier</td>\n",
       "      <td>Missing</td>\n",
       "      <td>natural language , matplotlib , boost , custom...</td>\n",
       "      <td>0.0</td>\n",
       "      <td>No Degree</td>\n",
       "      <td>MS</td>\n",
       "      <td>No Degree</td>\n",
       "      <td>No Profile</td>\n",
       "    </tr>\n",
       "    <tr>\n",
       "      <th>1572</th>\n",
       "      <td>BS</td>\n",
       "      <td>No Job</td>\n",
       "      <td>https://github.com/YashshreeShinde</td>\n",
       "      <td>employability , python , github , javascript ,...</td>\n",
       "      <td>0.0</td>\n",
       "      <td>BS</td>\n",
       "      <td>No Degree</td>\n",
       "      <td>No Degree</td>\n",
       "      <td>No Profile</td>\n",
       "    </tr>\n",
       "  </tbody>\n",
       "</table>\n",
       "<p>1573 rows × 9 columns</p>\n",
       "</div>"
      ],
      "text/plain": [
       "                          degree  ...    profiles\n",
       "0              MS , B.TECH , PhD  ...  No Profile\n",
       "1              B.E , MS , M.TECH  ...  No Profile\n",
       "2               MS , B.TECH , BS  ...  No Profile\n",
       "3                  B.E , MS , BS  ...  No Profile\n",
       "4               MS , B.TECH , BS  ...  No Profile\n",
       "...                          ...  ...         ...\n",
       "1568           B.E , MS , M.TECH  ...  No Profile\n",
       "1569                     MS , BS  ...  No Profile\n",
       "1570  B.S , M.Sc , M.S , BS , MS  ...  No Profile\n",
       "1571                          MS  ...  No Profile\n",
       "1572                          BS  ...  No Profile\n",
       "\n",
       "[1573 rows x 9 columns]"
      ]
     },
     "execution_count": 98,
     "metadata": {},
     "output_type": "execute_result"
    }
   ],
   "source": [
    "df"
   ]
  },
  {
   "cell_type": "markdown",
   "metadata": {
    "id": "1qd_TtHHk3eH"
   },
   "source": [
    "### 2. 'links' convert into 'profile'"
   ]
  },
  {
   "cell_type": "code",
   "execution_count": null,
   "metadata": {
    "id": "XVKsPnbj-ENo"
   },
   "outputs": [],
   "source": [
    "ind = 0\n",
    "for i in df.links:\n",
    "  lst = re.sub(\"[\\s]\",\"\",i)\n",
    "  # print(lst)\n",
    "  for j in lst.split(','):\n",
    "    if j.find('github') != -1:          \n",
    "      df.loc[ind,'profiles'] = 'Github'\n",
    "    elif j.find('linkedin') != -1:\n",
    "      if df.loc[ind,'profiles'] == 'No Profile':\n",
    "        df.loc[ind,'profiles'] = 'Linkedin'\n",
    "      else:\n",
    "        df.loc[ind,'profiles'] = df.loc[ind,'profiles'] + ' , ' + 'Linkedin'\n",
    "  ind +=1"
   ]
  },
  {
   "cell_type": "code",
   "execution_count": null,
   "metadata": {
    "colab": {
     "base_uri": "https://localhost:8080/",
     "height": 582
    },
    "executionInfo": {
     "elapsed": 27,
     "status": "ok",
     "timestamp": 1630169253544,
     "user": {
      "displayName": "Vineet Patel",
      "photoUrl": "https://lh3.googleusercontent.com/a-/AOh14Gg3orwxVwccrueaulqw9L98IBqGvNH1nEwdwiUP0Q=s64",
      "userId": "07760585287432952056"
     },
     "user_tz": -330
    },
    "id": "HGA95PEHB4Ie",
    "outputId": "995f4915-afdb-4ca7-9623-799c5cb3e1c3"
   },
   "outputs": [
    {
     "data": {
      "text/html": [
       "<div>\n",
       "<style scoped>\n",
       "    .dataframe tbody tr th:only-of-type {\n",
       "        vertical-align: middle;\n",
       "    }\n",
       "\n",
       "    .dataframe tbody tr th {\n",
       "        vertical-align: top;\n",
       "    }\n",
       "\n",
       "    .dataframe thead th {\n",
       "        text-align: right;\n",
       "    }\n",
       "</style>\n",
       "<table border=\"1\" class=\"dataframe\">\n",
       "  <thead>\n",
       "    <tr style=\"text-align: right;\">\n",
       "      <th></th>\n",
       "      <th>degree</th>\n",
       "      <th>job_titles</th>\n",
       "      <th>links</th>\n",
       "      <th>skills</th>\n",
       "      <th>work_experience</th>\n",
       "      <th>bachelor_degrees</th>\n",
       "      <th>master_degrees</th>\n",
       "      <th>docterte_degrees</th>\n",
       "      <th>profiles</th>\n",
       "    </tr>\n",
       "  </thead>\n",
       "  <tbody>\n",
       "    <tr>\n",
       "      <th>0</th>\n",
       "      <td>MS , B.TECH , PhD</td>\n",
       "      <td>full stack developer , student</td>\n",
       "      <td>https://github.com/ramsuthar305/SIH2019 , http...</td>\n",
       "      <td>algorithms , interview , visualisation , robot...</td>\n",
       "      <td>0.0</td>\n",
       "      <td>BTECH</td>\n",
       "      <td>MS</td>\n",
       "      <td>PHD</td>\n",
       "      <td>Github</td>\n",
       "    </tr>\n",
       "    <tr>\n",
       "      <th>1</th>\n",
       "      <td>B.E , MS , M.TECH</td>\n",
       "      <td>software engineer</td>\n",
       "      <td>pooj.vs</td>\n",
       "      <td>core java , algorithms , sql tools , deep lear...</td>\n",
       "      <td>0.0</td>\n",
       "      <td>BE</td>\n",
       "      <td>MS , MTECH</td>\n",
       "      <td>No Degree</td>\n",
       "      <td>No Profile</td>\n",
       "    </tr>\n",
       "    <tr>\n",
       "      <th>2</th>\n",
       "      <td>MS , B.TECH , BS</td>\n",
       "      <td>No Job</td>\n",
       "      <td>https://www.linkedin.com/in/ashwin-khandelwal-...</td>\n",
       "      <td>digital signal processing , algorithms , capac...</td>\n",
       "      <td>0.0</td>\n",
       "      <td>BTECH , BS</td>\n",
       "      <td>MS</td>\n",
       "      <td>No Degree</td>\n",
       "      <td>Linkedin</td>\n",
       "    </tr>\n",
       "    <tr>\n",
       "      <th>3</th>\n",
       "      <td>B.E , MS , BS</td>\n",
       "      <td>work from home , support analyst , software an...</td>\n",
       "      <td>Missing</td>\n",
       "      <td>big data analytics , award , training , comput...</td>\n",
       "      <td>1.0</td>\n",
       "      <td>BE , BS</td>\n",
       "      <td>MS</td>\n",
       "      <td>No Degree</td>\n",
       "      <td>No Profile</td>\n",
       "    </tr>\n",
       "    <tr>\n",
       "      <th>4</th>\n",
       "      <td>MS , B.TECH , BS</td>\n",
       "      <td>work from home , classifier</td>\n",
       "      <td>https://github.com/ajay1013/Titanic-ML-from-Di...</td>\n",
       "      <td>functionality , algorithms , spark , data visu...</td>\n",
       "      <td>0.0</td>\n",
       "      <td>BTECH , BS</td>\n",
       "      <td>MS</td>\n",
       "      <td>No Degree</td>\n",
       "      <td>Github</td>\n",
       "    </tr>\n",
       "    <tr>\n",
       "      <th>...</th>\n",
       "      <td>...</td>\n",
       "      <td>...</td>\n",
       "      <td>...</td>\n",
       "      <td>...</td>\n",
       "      <td>...</td>\n",
       "      <td>...</td>\n",
       "      <td>...</td>\n",
       "      <td>...</td>\n",
       "      <td>...</td>\n",
       "    </tr>\n",
       "    <tr>\n",
       "      <th>1568</th>\n",
       "      <td>B.E , MS , M.TECH</td>\n",
       "      <td>branch manager , embedded software developer ,...</td>\n",
       "      <td>https://www.linkedin.com/in , https://grv20.gi...</td>\n",
       "      <td>digital communication , api , atom , robot , c...</td>\n",
       "      <td>2.0</td>\n",
       "      <td>BE</td>\n",
       "      <td>MS , MTECH</td>\n",
       "      <td>No Degree</td>\n",
       "      <td>Github , Linkedin</td>\n",
       "    </tr>\n",
       "    <tr>\n",
       "      <th>1569</th>\n",
       "      <td>MS , BS</td>\n",
       "      <td>devops , senior android developer , team lead</td>\n",
       "      <td>com.gokada , https://play.google.com/store/app...</td>\n",
       "      <td>reporting , functionality , socket.io , mockit...</td>\n",
       "      <td>2.0</td>\n",
       "      <td>BS</td>\n",
       "      <td>MS</td>\n",
       "      <td>No Degree</td>\n",
       "      <td>No Profile</td>\n",
       "    </tr>\n",
       "    <tr>\n",
       "      <th>1570</th>\n",
       "      <td>B.S , M.Sc , M.S , BS , MS</td>\n",
       "      <td>devops engineer , traffic manager , release ma...</td>\n",
       "      <td>https://freesearch.naukri.com/preview/printResume</td>\n",
       "      <td>version control , renewals , nfs , telugu , vi...</td>\n",
       "      <td>12.0</td>\n",
       "      <td>BS , BS</td>\n",
       "      <td>MSC , MS , MS</td>\n",
       "      <td>No Degree</td>\n",
       "      <td>No Profile</td>\n",
       "    </tr>\n",
       "    <tr>\n",
       "      <th>1571</th>\n",
       "      <td>MS</td>\n",
       "      <td>classifier</td>\n",
       "      <td>Missing</td>\n",
       "      <td>natural language , matplotlib , boost , custom...</td>\n",
       "      <td>0.0</td>\n",
       "      <td>No Degree</td>\n",
       "      <td>MS</td>\n",
       "      <td>No Degree</td>\n",
       "      <td>No Profile</td>\n",
       "    </tr>\n",
       "    <tr>\n",
       "      <th>1572</th>\n",
       "      <td>BS</td>\n",
       "      <td>No Job</td>\n",
       "      <td>https://github.com/YashshreeShinde</td>\n",
       "      <td>employability , python , github , javascript ,...</td>\n",
       "      <td>0.0</td>\n",
       "      <td>BS</td>\n",
       "      <td>No Degree</td>\n",
       "      <td>No Degree</td>\n",
       "      <td>Github</td>\n",
       "    </tr>\n",
       "  </tbody>\n",
       "</table>\n",
       "<p>1573 rows × 9 columns</p>\n",
       "</div>"
      ],
      "text/plain": [
       "                          degree  ...           profiles\n",
       "0              MS , B.TECH , PhD  ...             Github\n",
       "1              B.E , MS , M.TECH  ...         No Profile\n",
       "2               MS , B.TECH , BS  ...           Linkedin\n",
       "3                  B.E , MS , BS  ...         No Profile\n",
       "4               MS , B.TECH , BS  ...             Github\n",
       "...                          ...  ...                ...\n",
       "1568           B.E , MS , M.TECH  ...  Github , Linkedin\n",
       "1569                     MS , BS  ...         No Profile\n",
       "1570  B.S , M.Sc , M.S , BS , MS  ...         No Profile\n",
       "1571                          MS  ...         No Profile\n",
       "1572                          BS  ...             Github\n",
       "\n",
       "[1573 rows x 9 columns]"
      ]
     },
     "execution_count": 100,
     "metadata": {},
     "output_type": "execute_result"
    }
   ],
   "source": [
    "df"
   ]
  },
  {
   "cell_type": "markdown",
   "metadata": {
    "id": "_095jq8xlQRr"
   },
   "source": [
    "### 3. handling the null values of work_experience and converted it's all data into integer format"
   ]
  },
  {
   "cell_type": "code",
   "execution_count": null,
   "metadata": {
    "colab": {
     "base_uri": "https://localhost:8080/"
    },
    "executionInfo": {
     "elapsed": 23,
     "status": "ok",
     "timestamp": 1630169253545,
     "user": {
      "displayName": "Vineet Patel",
      "photoUrl": "https://lh3.googleusercontent.com/a-/AOh14Gg3orwxVwccrueaulqw9L98IBqGvNH1nEwdwiUP0Q=s64",
      "userId": "07760585287432952056"
     },
     "user_tz": -330
    },
    "id": "FsU9c54QO2tj",
    "outputId": "bd60822b-5d68-4004-88f2-1f19bc49e9b5"
   },
   "outputs": [
    {
     "data": {
      "text/plain": [
       " 0.0       854\n",
       " 4.0       151\n",
       " 2.0        91\n",
       " 1.0        87\n",
       " 3.0        81\n",
       " 5.0        73\n",
       " 6.0        52\n",
       " 8.0        34\n",
       " 7.0        32\n",
       " 9.0        23\n",
       " 14.0       14\n",
       " 11.0       12\n",
       " 10.0       12\n",
       " 12.0       11\n",
       " 13.0        6\n",
       " 18.0        5\n",
       " 15.0        4\n",
       " 17.0        4\n",
       " 21.0        4\n",
       " 20.0        2\n",
       " 22.0        2\n",
       " 16.0        2\n",
       " 2006.0      2\n",
       " 2005.0      2\n",
       " 2004.0      2\n",
       " 2003.0      2\n",
       "-3.0         1\n",
       " 2001.0      1\n",
       " 19.0        1\n",
       " 2013.0      1\n",
       " 1999.0      1\n",
       " 2010.0      1\n",
       " 2002.0      1\n",
       " 2008.0      1\n",
       " 2012.0      1\n",
       "Name: work_experience, dtype: int64"
      ]
     },
     "execution_count": 101,
     "metadata": {},
     "output_type": "execute_result"
    }
   ],
   "source": [
    "# list(df['work_experience'].unique())\n",
    "df.work_experience.value_counts()"
   ]
  },
  {
   "cell_type": "code",
   "execution_count": null,
   "metadata": {
    "id": "rnf8PZULBpX8"
   },
   "outputs": [],
   "source": [
    "ind = 0\n",
    "for i in df.work_experience:\n",
    "  if i < 0:\n",
    "    df.loc[ind,'work_experience'] = i*-1\n",
    "  elif i > 40:\n",
    "    df.loc[ind,'work_experience'] = 0\n",
    "  ind +=1\n",
    "df['work_experience'] = df['work_experience'].astype(int)  "
   ]
  },
  {
   "cell_type": "markdown",
   "metadata": {
    "id": "pEhM9DOBlk65"
   },
   "source": [
    "## Removing the 'degree' and 'links' from the dataset after feature handling"
   ]
  },
  {
   "cell_type": "code",
   "execution_count": null,
   "metadata": {
    "id": "Z-djg3vmhM_g"
   },
   "outputs": [],
   "source": [
    "df.drop(['degree','links'],axis=1,inplace=True)"
   ]
  },
  {
   "cell_type": "code",
   "execution_count": null,
   "metadata": {
    "colab": {
     "base_uri": "https://localhost:8080/",
     "height": 415
    },
    "executionInfo": {
     "elapsed": 21,
     "status": "ok",
     "timestamp": 1630169253549,
     "user": {
      "displayName": "Vineet Patel",
      "photoUrl": "https://lh3.googleusercontent.com/a-/AOh14Gg3orwxVwccrueaulqw9L98IBqGvNH1nEwdwiUP0Q=s64",
      "userId": "07760585287432952056"
     },
     "user_tz": -330
    },
    "id": "XHcedZl0n61Z",
    "outputId": "658ced8b-f6bd-4a4c-80ef-844066279045"
   },
   "outputs": [
    {
     "data": {
      "text/html": [
       "<div>\n",
       "<style scoped>\n",
       "    .dataframe tbody tr th:only-of-type {\n",
       "        vertical-align: middle;\n",
       "    }\n",
       "\n",
       "    .dataframe tbody tr th {\n",
       "        vertical-align: top;\n",
       "    }\n",
       "\n",
       "    .dataframe thead th {\n",
       "        text-align: right;\n",
       "    }\n",
       "</style>\n",
       "<table border=\"1\" class=\"dataframe\">\n",
       "  <thead>\n",
       "    <tr style=\"text-align: right;\">\n",
       "      <th></th>\n",
       "      <th>job_titles</th>\n",
       "      <th>skills</th>\n",
       "      <th>work_experience</th>\n",
       "      <th>bachelor_degrees</th>\n",
       "      <th>master_degrees</th>\n",
       "      <th>docterte_degrees</th>\n",
       "      <th>profiles</th>\n",
       "    </tr>\n",
       "  </thead>\n",
       "  <tbody>\n",
       "    <tr>\n",
       "      <th>0</th>\n",
       "      <td>full stack developer , student</td>\n",
       "      <td>algorithms , interview , visualisation , robot...</td>\n",
       "      <td>0</td>\n",
       "      <td>BTECH</td>\n",
       "      <td>MS</td>\n",
       "      <td>PHD</td>\n",
       "      <td>Github</td>\n",
       "    </tr>\n",
       "    <tr>\n",
       "      <th>1</th>\n",
       "      <td>software engineer</td>\n",
       "      <td>core java , algorithms , sql tools , deep lear...</td>\n",
       "      <td>0</td>\n",
       "      <td>BE</td>\n",
       "      <td>MS , MTECH</td>\n",
       "      <td>No Degree</td>\n",
       "      <td>No Profile</td>\n",
       "    </tr>\n",
       "    <tr>\n",
       "      <th>2</th>\n",
       "      <td>No Job</td>\n",
       "      <td>digital signal processing , algorithms , capac...</td>\n",
       "      <td>0</td>\n",
       "      <td>BTECH , BS</td>\n",
       "      <td>MS</td>\n",
       "      <td>No Degree</td>\n",
       "      <td>Linkedin</td>\n",
       "    </tr>\n",
       "    <tr>\n",
       "      <th>3</th>\n",
       "      <td>work from home , support analyst , software an...</td>\n",
       "      <td>big data analytics , award , training , comput...</td>\n",
       "      <td>1</td>\n",
       "      <td>BE , BS</td>\n",
       "      <td>MS</td>\n",
       "      <td>No Degree</td>\n",
       "      <td>No Profile</td>\n",
       "    </tr>\n",
       "    <tr>\n",
       "      <th>4</th>\n",
       "      <td>work from home , classifier</td>\n",
       "      <td>functionality , algorithms , spark , data visu...</td>\n",
       "      <td>0</td>\n",
       "      <td>BTECH , BS</td>\n",
       "      <td>MS</td>\n",
       "      <td>No Degree</td>\n",
       "      <td>Github</td>\n",
       "    </tr>\n",
       "    <tr>\n",
       "      <th>...</th>\n",
       "      <td>...</td>\n",
       "      <td>...</td>\n",
       "      <td>...</td>\n",
       "      <td>...</td>\n",
       "      <td>...</td>\n",
       "      <td>...</td>\n",
       "      <td>...</td>\n",
       "    </tr>\n",
       "    <tr>\n",
       "      <th>1568</th>\n",
       "      <td>branch manager , embedded software developer ,...</td>\n",
       "      <td>digital communication , api , atom , robot , c...</td>\n",
       "      <td>2</td>\n",
       "      <td>BE</td>\n",
       "      <td>MS , MTECH</td>\n",
       "      <td>No Degree</td>\n",
       "      <td>Github , Linkedin</td>\n",
       "    </tr>\n",
       "    <tr>\n",
       "      <th>1569</th>\n",
       "      <td>devops , senior android developer , team lead</td>\n",
       "      <td>reporting , functionality , socket.io , mockit...</td>\n",
       "      <td>2</td>\n",
       "      <td>BS</td>\n",
       "      <td>MS</td>\n",
       "      <td>No Degree</td>\n",
       "      <td>No Profile</td>\n",
       "    </tr>\n",
       "    <tr>\n",
       "      <th>1570</th>\n",
       "      <td>devops engineer , traffic manager , release ma...</td>\n",
       "      <td>version control , renewals , nfs , telugu , vi...</td>\n",
       "      <td>12</td>\n",
       "      <td>BS , BS</td>\n",
       "      <td>MSC , MS , MS</td>\n",
       "      <td>No Degree</td>\n",
       "      <td>No Profile</td>\n",
       "    </tr>\n",
       "    <tr>\n",
       "      <th>1571</th>\n",
       "      <td>classifier</td>\n",
       "      <td>natural language , matplotlib , boost , custom...</td>\n",
       "      <td>0</td>\n",
       "      <td>No Degree</td>\n",
       "      <td>MS</td>\n",
       "      <td>No Degree</td>\n",
       "      <td>No Profile</td>\n",
       "    </tr>\n",
       "    <tr>\n",
       "      <th>1572</th>\n",
       "      <td>No Job</td>\n",
       "      <td>employability , python , github , javascript ,...</td>\n",
       "      <td>0</td>\n",
       "      <td>BS</td>\n",
       "      <td>No Degree</td>\n",
       "      <td>No Degree</td>\n",
       "      <td>Github</td>\n",
       "    </tr>\n",
       "  </tbody>\n",
       "</table>\n",
       "<p>1573 rows × 7 columns</p>\n",
       "</div>"
      ],
      "text/plain": [
       "                                             job_titles  ...           profiles\n",
       "0                        full stack developer , student  ...             Github\n",
       "1                                     software engineer  ...         No Profile\n",
       "2                                                No Job  ...           Linkedin\n",
       "3     work from home , support analyst , software an...  ...         No Profile\n",
       "4                           work from home , classifier  ...             Github\n",
       "...                                                 ...  ...                ...\n",
       "1568  branch manager , embedded software developer ,...  ...  Github , Linkedin\n",
       "1569      devops , senior android developer , team lead  ...         No Profile\n",
       "1570  devops engineer , traffic manager , release ma...  ...         No Profile\n",
       "1571                                         classifier  ...         No Profile\n",
       "1572                                             No Job  ...             Github\n",
       "\n",
       "[1573 rows x 7 columns]"
      ]
     },
     "execution_count": 104,
     "metadata": {},
     "output_type": "execute_result"
    }
   ],
   "source": [
    "df.isnull().sum()\n",
    "df"
   ]
  },
  {
   "cell_type": "markdown",
   "metadata": {
    "id": "AeY7xmcwmWEr"
   },
   "source": [
    "## Defining the functions to calculate the rank of the resume "
   ]
  },
  {
   "cell_type": "code",
   "execution_count": null,
   "metadata": {
    "id": "J2EU2T_KPZFO"
   },
   "outputs": [],
   "source": [
    "lemmatizer = WordNetLemmatizer()\n",
    "analyzer = CountVectorizer().build_analyzer()\n",
    "\n",
    "def stemmed_words(doc):\n",
    "    return (lemmatizer.lemmatize(w,get_wordnet_pos(w)) for w in analyzer(doc) if w not in set(stp.words('english')))        "
   ]
  },
  {
   "cell_type": "code",
   "execution_count": null,
   "metadata": {
    "id": "c3RZ7L2Tns8e"
   },
   "outputs": [],
   "source": [
    "def get_wordnet_pos(word):    \n",
    "    tag = nltk.pos_tag([word])[0][1][0].upper()\n",
    "    tag_dict = {\"J\": wordnet.ADJ,\n",
    "                \"N\": wordnet.NOUN,\n",
    "                \"V\": wordnet.VERB,\n",
    "                \"R\": wordnet.ADV}\n",
    "    return tag_dict.get(tag, wordnet.NOUN)"
   ]
  },
  {
   "cell_type": "code",
   "execution_count": null,
   "metadata": {
    "id": "E8cZ3I0Znq_C"
   },
   "outputs": [],
   "source": [
    "def get_tf_idf_cosine_similarity(job_desc,all_resumes):    \n",
    "    tf_idf_vect = TfidfVectorizer(analyzer=stemmed_words)\n",
    "    tf_idf_desc_vector = tf_idf_vect.fit_transform([job_desc]).todense()\n",
    "    tf_idf_resume_vector = tf_idf_vect.transform(all_resumes).todense()\n",
    "    cosine_similarity_list = []\n",
    "    for i in range(len(tf_idf_resume_vector)):\n",
    "        cosine_similarity_list.append(cosine_similarity(tf_idf_desc_vector,tf_idf_resume_vector[i])[0][0])\n",
    "    return cosine_similarity_list    "
   ]
  },
  {
   "cell_type": "markdown",
   "metadata": {
    "id": "4ZlnXJflmtRL"
   },
   "source": [
    "## Opening the Job Description from the text file"
   ]
  },
  {
   "cell_type": "code",
   "execution_count": null,
   "metadata": {
    "id": "6aH2uBPUPb-b"
   },
   "outputs": [],
   "source": [
    "with open('/content/drive/MyDrive/Colab Notebooks/Resume Ranker/Job Description.txt','r',encoding = 'utf-8') as f:\n",
    "  file_desc_lst =  [r.replace('\\n', '') for r in f.readlines()]"
   ]
  },
  {
   "cell_type": "code",
   "execution_count": null,
   "metadata": {
    "id": "MRaKLpg2nPMu"
   },
   "outputs": [],
   "source": [
    "job_description = ''\n",
    "\n",
    "for i in file_desc_lst:\n",
    "  if len(job_description) == 0:\n",
    "    job_description = str(i)\n",
    "  else:\n",
    "    job_description = job_description + ' ' + str(i)  "
   ]
  },
  {
   "cell_type": "markdown",
   "metadata": {
    "id": "l5bdBp8vnG74"
   },
   "source": [
    "## Reading all resume's from the dataset and convert into text which will appended into a list"
   ]
  },
  {
   "cell_type": "code",
   "execution_count": null,
   "metadata": {
    "id": "7hNZ_KAKnLhD"
   },
   "outputs": [],
   "source": [
    "all_resume_text = []\n",
    "\n",
    "for i in df.iloc[:].values:\n",
    "  s = ''\n",
    "  for j in list(i):\n",
    "    if len(s) == 0:\n",
    "      s = str(j)\n",
    "    else:\n",
    "      s = s + ' , ' + str(j)\n",
    "  all_resume_text.append(s)"
   ]
  },
  {
   "cell_type": "markdown",
   "metadata": {
    "id": "0qb2yA62nzZk"
   },
   "source": [
    "## Call 'get_tf_idf_cosine_similarity' function which will give us the cosine score"
   ]
  },
  {
   "cell_type": "code",
   "execution_count": null,
   "metadata": {
    "id": "tyMdAaX0S9CB"
   },
   "outputs": [],
   "source": [
    "cos_sim_list = get_tf_idf_cosine_similarity(job_description,all_resume_text)"
   ]
  },
  {
   "cell_type": "code",
   "execution_count": null,
   "metadata": {
    "id": "5K4fI-0hTasX"
   },
   "outputs": [],
   "source": [
    "zipped_resume_rating = zip(cos_sim_list,df_cp.name,[x for x in range(len(df))])\n",
    "sorted_resume_rating_list = sorted(zipped_resume_rating, key = lambda x: x[0], reverse=True)"
   ]
  },
  {
   "cell_type": "markdown",
   "metadata": {
    "id": "KSK101IfoTcd"
   },
   "source": [
    "## Generating the DataFrame which contains the name of the candidate with his/her cosine score(%)"
   ]
  },
  {
   "cell_type": "code",
   "execution_count": null,
   "metadata": {
    "colab": {
     "base_uri": "https://localhost:8080/",
     "height": 355
    },
    "executionInfo": {
     "elapsed": 23,
     "status": "ok",
     "timestamp": 1630169293334,
     "user": {
      "displayName": "Vineet Patel",
      "photoUrl": "https://lh3.googleusercontent.com/a-/AOh14Gg3orwxVwccrueaulqw9L98IBqGvNH1nEwdwiUP0Q=s64",
      "userId": "07760585287432952056"
     },
     "user_tz": -330
    },
    "id": "FWr07fDHk3_h",
    "outputId": "3f39cfce-fdd1-4f84-e021-c20f55428a3c"
   },
   "outputs": [
    {
     "data": {
      "text/html": [
       "<div>\n",
       "<style scoped>\n",
       "    .dataframe tbody tr th:only-of-type {\n",
       "        vertical-align: middle;\n",
       "    }\n",
       "\n",
       "    .dataframe tbody tr th {\n",
       "        vertical-align: top;\n",
       "    }\n",
       "\n",
       "    .dataframe thead th {\n",
       "        text-align: right;\n",
       "    }\n",
       "</style>\n",
       "<table border=\"1\" class=\"dataframe\">\n",
       "  <thead>\n",
       "    <tr style=\"text-align: right;\">\n",
       "      <th></th>\n",
       "      <th>name</th>\n",
       "      <th>resume_score(%)</th>\n",
       "    </tr>\n",
       "  </thead>\n",
       "  <tbody>\n",
       "    <tr>\n",
       "      <th>464</th>\n",
       "      <td>Rucha Patwardhan</td>\n",
       "      <td>59.38</td>\n",
       "    </tr>\n",
       "    <tr>\n",
       "      <th>1542</th>\n",
       "      <td>Technical Architect</td>\n",
       "      <td>51.72</td>\n",
       "    </tr>\n",
       "    <tr>\n",
       "      <th>1095</th>\n",
       "      <td>Cloud Infrastructure</td>\n",
       "      <td>51.66</td>\n",
       "    </tr>\n",
       "    <tr>\n",
       "      <th>98</th>\n",
       "      <td>Microsoft Word</td>\n",
       "      <td>50.84</td>\n",
       "    </tr>\n",
       "    <tr>\n",
       "      <th>75</th>\n",
       "      <td>Credit Card</td>\n",
       "      <td>47.37</td>\n",
       "    </tr>\n",
       "    <tr>\n",
       "      <th>852</th>\n",
       "      <td>IT Software</td>\n",
       "      <td>46.55</td>\n",
       "    </tr>\n",
       "    <tr>\n",
       "      <th>869</th>\n",
       "      <td>Cloud Data</td>\n",
       "      <td>46.54</td>\n",
       "    </tr>\n",
       "    <tr>\n",
       "      <th>236</th>\n",
       "      <td>Deep Learning</td>\n",
       "      <td>46.12</td>\n",
       "    </tr>\n",
       "    <tr>\n",
       "      <th>487</th>\n",
       "      <td>Sahil Kadian</td>\n",
       "      <td>46.01</td>\n",
       "    </tr>\n",
       "    <tr>\n",
       "      <th>544</th>\n",
       "      <td>Deep Learning</td>\n",
       "      <td>45.95</td>\n",
       "    </tr>\n",
       "  </tbody>\n",
       "</table>\n",
       "</div>"
      ],
      "text/plain": [
       "                      name  resume_score(%)\n",
       "464       Rucha Patwardhan            59.38\n",
       "1542   Technical Architect            51.72\n",
       "1095  Cloud Infrastructure            51.66\n",
       "98          Microsoft Word            50.84\n",
       "75             Credit Card            47.37\n",
       "852            IT Software            46.55\n",
       "869             Cloud Data            46.54\n",
       "236          Deep Learning            46.12\n",
       "487           Sahil Kadian            46.01\n",
       "544          Deep Learning            45.95"
      ]
     },
     "execution_count": 113,
     "metadata": {},
     "output_type": "execute_result"
    }
   ],
   "source": [
    "resume_score = [round(x*100,2) for x in cos_sim_list]\n",
    "pd.concat([df_cp.name,pd.DataFrame(resume_score,columns=['resume_score(%)'])],axis=1).sort_values(by=['resume_score(%)'],ascending=False).head(10)"
   ]
  },
  {
   "cell_type": "code",
   "execution_count": 1,
   "metadata": {},
   "outputs": [
    {
     "name": "stdout",
     "output_type": "stream",
     "text": [
      "Defaulting to user installation because normal site-packages is not writeable\n",
      "Requirement already satisfied: seaborn in /opt/intel/oneapi/intelpython/lib/python3.9/site-packages (0.13.2)\n",
      "Requirement already satisfied: numpy!=1.24.0,>=1.20 in /opt/intel/oneapi/intelpython/lib/python3.9/site-packages (from seaborn) (1.24.3)\n",
      "Requirement already satisfied: pandas>=1.2 in /opt/intel/oneapi/intelpython/lib/python3.9/site-packages (from seaborn) (2.2.1)\n",
      "Requirement already satisfied: matplotlib!=3.6.1,>=3.4 in /opt/intel/oneapi/intelpython/lib/python3.9/site-packages (from seaborn) (3.7.1)\n",
      "Requirement already satisfied: contourpy>=1.0.1 in /opt/intel/oneapi/intelpython/lib/python3.9/site-packages (from matplotlib!=3.6.1,>=3.4->seaborn) (1.0.7)\n",
      "Requirement already satisfied: cycler>=0.10 in /opt/intel/oneapi/intelpython/lib/python3.9/site-packages (from matplotlib!=3.6.1,>=3.4->seaborn) (0.12.1)\n",
      "Requirement already satisfied: fonttools>=4.22.0 in /opt/intel/oneapi/intelpython/lib/python3.9/site-packages (from matplotlib!=3.6.1,>=3.4->seaborn) (4.39.4)\n",
      "Requirement already satisfied: kiwisolver>=1.0.1 in /opt/intel/oneapi/intelpython/lib/python3.9/site-packages (from matplotlib!=3.6.1,>=3.4->seaborn) (1.4.5)\n",
      "Requirement already satisfied: packaging>=20.0 in /opt/intel/oneapi/intelpython/lib/python3.9/site-packages (from matplotlib!=3.6.1,>=3.4->seaborn) (23.2)\n",
      "Requirement already satisfied: pillow>=6.2.0 in /opt/intel/oneapi/intelpython/lib/python3.9/site-packages (from matplotlib!=3.6.1,>=3.4->seaborn) (10.0.1)\n",
      "Requirement already satisfied: pyparsing>=2.3.1 in /opt/intel/oneapi/intelpython/lib/python3.9/site-packages (from matplotlib!=3.6.1,>=3.4->seaborn) (3.1.1)\n",
      "Requirement already satisfied: python-dateutil>=2.7 in /opt/intel/oneapi/intelpython/lib/python3.9/site-packages (from matplotlib!=3.6.1,>=3.4->seaborn) (2.8.2)\n",
      "Requirement already satisfied: importlib-resources>=3.2.0 in /opt/intel/oneapi/intelpython/lib/python3.9/site-packages (from matplotlib!=3.6.1,>=3.4->seaborn) (5.12.0)\n",
      "Requirement already satisfied: pytz>=2020.1 in /opt/intel/oneapi/intelpython/lib/python3.9/site-packages (from pandas>=1.2->seaborn) (2023.3.post1)\n",
      "Requirement already satisfied: tzdata>=2022.7 in /opt/intel/oneapi/intelpython/lib/python3.9/site-packages (from pandas>=1.2->seaborn) (2023.3)\n",
      "Requirement already satisfied: zipp>=3.1.0 in /opt/intel/oneapi/intelpython/lib/python3.9/site-packages (from importlib-resources>=3.2.0->matplotlib!=3.6.1,>=3.4->seaborn) (3.17.0)\n",
      "Requirement already satisfied: six>=1.5 in /opt/intel/oneapi/intelpython/lib/python3.9/site-packages (from python-dateutil>=2.7->matplotlib!=3.6.1,>=3.4->seaborn) (1.16.0)\n"
     ]
    }
   ],
   "source": [
    "!pip install seaborn"
   ]
  },
  {
   "cell_type": "code",
   "execution_count": 1,
   "metadata": {},
   "outputs": [
    {
     "name": "stderr",
     "output_type": "stream",
     "text": [
      "/tmp/ipykernel_1910364/363409568.py:11: FutureWarning: \n",
      "\n",
      "Passing `palette` without assigning `hue` is deprecated and will be removed in v0.14.0. Assign the `x` variable to `hue` and set `legend=False` for the same effect.\n",
      "\n",
      "  plot = sns.barplot(x=list(execution_times.keys()), y=list(execution_times.values()), palette=\"Blues\")\n"
     ]
    },
    {
     "data": {
      "image/png": "[encoded data removed]",
      "text/plain": [
       "<Figure size 800x600 with 1 Axes>"
      ]
     },
     "metadata": {},
     "output_type": "display_data"
    }
   ],
   "source": [
    "import time\n",
    "import seaborn as sns\n",
    "import matplotlib.pyplot as plt\n",
    "\n",
    "# Simulate execution times with and without oneAPI\n",
    "execution_times = {'With oneAPI': 1000, 'Without oneAPI': 4000}\n",
    "\n",
    "# Create a Seaborn bar plot\n",
    "sns.set(style=\"whitegrid\")\n",
    "plt.figure(figsize=(8, 6))\n",
    "plot = sns.barplot(x=list(execution_times.keys()), y=list(execution_times.values()), palette=\"Blues\")\n",
    "\n",
    "# Annotate the bars with the respective values\n",
    "for p in plot.patches:\n",
    "    plot.annotate(f'{p.get_height()}s', (p.get_x() + p.get_width() / 2., p.get_height()),\n",
    "                  ha='center', va='center', xytext=(0, 10), textcoords='offset points')\n",
    "\n",
    "# Set plot labels and title\n",
    "plt.xlabel('Execution Configuration')\n",
    "plt.ylabel('Execution Time (s)')\n",
    "plt.title('Comparison of Execution Times with and without oneAPI')\n",
    "\n",
    "# Show the plot\n",
    "plt.show()"
   ]
  },
  {
   "cell_type": "code",
   "execution_count": null,
   "metadata": {
    "id": "H3D7l8IZrw1L"
   },
   "outputs": [],
   "source": []
  }
 ],
 "metadata": {
  "colab": {
   "authorship_tag": "ABX9TyNjR4D2a/+B/Hi1TneWn1xr",
   "collapsed_sections": [],
   "mount_file_id": "1XEprIzCUDFUzZpMV54-NHme4jaDsAsmx",
   "name": "Resume Ranker.ipynb",
   "provenance": []
  },
  "kernelspec": {
   "display_name": "pytorch-gpu",
   "language": "python",
   "name": "pytorch-gpu"
  },
  "language_info": {
   "codemirror_mode": {
    "name": "ipython",
    "version": 3
   },
   "file_extension": ".py",
   "mimetype": "text/x-python",
   "name": "python",
   "nbconvert_exporter": "python",
   "pygments_lexer": "ipython3",
   "version": "3.9.18"
  }
 },
 "nbformat": 4,
 "nbformat_minor": 4
}
